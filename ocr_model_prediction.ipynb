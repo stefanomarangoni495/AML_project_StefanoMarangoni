{
  "nbformat": 4,
  "nbformat_minor": 0,
  "metadata": {
    "colab": {
      "provenance": []
    },
    "kernelspec": {
      "name": "python3",
      "display_name": "Python 3"
    },
    "language_info": {
      "name": "python"
    }
  },
  "cells": [
    {
      "cell_type": "code",
      "execution_count": 11,
      "metadata": {
        "colab": {
          "base_uri": "https://localhost:8080/"
        },
        "id": "YDhuRVT1K9la",
        "outputId": "c1d210df-0bb7-4d95-c484-b3678f3ff963"
      },
      "outputs": [
        {
          "output_type": "stream",
          "name": "stdout",
          "text": [
            "Colab only includes TensorFlow 2.x; %tensorflow_version has no effect.\n"
          ]
        }
      ],
      "source": [
        "try:\n",
        "  # %tensorflow_version only exists in Colab.\n",
        "    %tensorflow_version 2.x\n",
        "\n",
        "    print(a)\n",
        "except Exception:\n",
        "  pass"
      ]
    },
    {
      "cell_type": "code",
      "source": [
        "import tensorflow as tf\n",
        "\n",
        "tf.random.set_seed(0)"
      ],
      "metadata": {
        "id": "LT1LNVkCLNqj"
      },
      "execution_count": 12,
      "outputs": []
    },
    {
      "cell_type": "code",
      "source": [
        "import pandas as pd\n",
        "import numpy as np\n",
        "from pathlib import Path\n",
        "from sklearn.preprocessing import LabelEncoder\n",
        "from tensorflow.keras.utils import to_categorical\n",
        "\n",
        "def load_data(data_path, target_path, encoder=None, fit_encoder=False):\n",
        "    X = pd.read_csv(data_path, header=None).values.astype(\"float32\")\n",
        "    y = pd.read_csv(target_path, header=None).values.squeeze()\n",
        "\n",
        "    # normalize the dati\n",
        "    X = X / 255.0\n",
        "\n",
        "    # reshape to image 16x8x1\n",
        "    X = X.reshape((-1, 16, 8, 1))\n",
        "\n",
        "    # encode labels\n",
        "    if fit_encoder:\n",
        "        encoder = LabelEncoder()\n",
        "        y = encoder.fit_transform(y)\n",
        "    else:\n",
        "        y = encoder.transform(y)\n",
        "\n",
        "    y = to_categorical(y)  # one-hot\n",
        "\n",
        "    return X, y, encoder\n",
        "\n",
        "data_path = Path(\"/content\")\n",
        "# train\n",
        "train_x, train_y, encoder = load_data(\n",
        "    data_path.joinpath(\"train-data.csv\").as_posix(),\n",
        "    data_path.joinpath(\"train-target.csv\").as_posix(),\n",
        "    fit_encoder=True\n",
        ")\n",
        "\n",
        "# test\n",
        "test_x, test_y, _ = load_data(\n",
        "    data_path.joinpath(\"test-data.csv\").as_posix(),\n",
        "    data_path.joinpath(\"test-target.csv\").as_posix(),\n",
        "    encoder=encoder\n",
        ")\n",
        "\n",
        "num_classes = train_y.shape[1]\n"
      ],
      "metadata": {
        "id": "doEnlzu_LOr3"
      },
      "execution_count": 13,
      "outputs": []
    },
    {
      "cell_type": "code",
      "source": [
        "%matplotlib inline\n",
        "import matplotlib.pyplot as plt\n",
        "\n",
        "plt.gray()\n",
        "plt.matshow(255 - train_x[0]) # 255 - x simply inverts the fading direction of the image\n",
        "plt.show()\n",
        "#train_data[0]"
      ],
      "metadata": {
        "colab": {
          "base_uri": "https://localhost:8080/",
          "height": 702
        },
        "id": "QkmpHzqwLdC6",
        "outputId": "ef533019-9487-47f6-d876-e6a5d57052e9"
      },
      "execution_count": 14,
      "outputs": [
        {
          "output_type": "display_data",
          "data": {
            "text/plain": [
              "<Figure size 640x480 with 0 Axes>"
            ]
          },
          "metadata": {}
        },
        {
          "output_type": "display_data",
          "data": {
            "text/plain": [
              "<Figure size 400x800 with 1 Axes>"
            ],
            "image/png": "[encoded data removed]"
          },
          "metadata": {}
        }
      ]
    },
    {
      "cell_type": "code",
      "source": [
        "train_class = pd.read_csv(data_path.joinpath(\"train-target.csv\").as_posix(), header=None)\n",
        "alfa=list(train_class[0].value_counts().index)\n",
        "alfa.sort()\n",
        "alfa_dict_num_to_char={i:char for i,char in enumerate(alfa)}\n",
        "alfa_dict_char_to_num={char:i for i,char in enumerate(alfa)}\n",
        "\n",
        "train_class_conv=np.zeros((train_class.shape[0],26),dtype=int)\n",
        "#test_class_conv=np.zeros((test_y.shape[0],26),dtype=int)\n",
        "\n",
        "for i,char in enumerate(train_class[0]):\n",
        "    train_class_conv[i][alfa_dict_char_to_num[char]]=1\n",
        "\n",
        "#for i,char in enumerate(test_class[0]):\n",
        "#    test_class_conv[i][alfa_dict_char_to_num[char]]=1\n",
        "\n",
        "#train_y=tf.convert_to_tensor(train_class_conv)\n",
        "#test_y=tf.convert_to_tensor(test_class_conv)"
      ],
      "metadata": {
        "id": "lkLjFrQwLhCw"
      },
      "execution_count": 24,
      "outputs": []
    },
    {
      "cell_type": "code",
      "source": [
        "ms_train_x,ms_val_x=tf.split(train_x,[int(len(train_x)*0.7),len(train_x)-int(len(train_x)*0.7)])\n",
        "ms_train_y,ms_val_y=tf.split(train_y,[int(len(train_y)*0.7),len(train_y)-int(len(train_y)*0.7)])"
      ],
      "metadata": {
        "id": "QCcpHzmkLp4g"
      },
      "execution_count": 16,
      "outputs": []
    },
    {
      "cell_type": "code",
      "source": [
        "import tensorflow as tf\n",
        "from tensorflow.keras import Model\n",
        "from tensorflow.keras.layers import Conv2D, MaxPooling2D, Flatten, Dense, Dropout, Softmax, ReLU\n",
        "\n",
        "class HWCharDeepModelKeras(Model):\n",
        "    def __init__(self, k):\n",
        "        super().__init__()\n",
        "        # Input shape: (batch, 16, 8, 1)\n",
        "        self.conv1 = Conv2D(\n",
        "            filters=32, kernel_size=k, padding='same',\n",
        "            activation='relu', kernel_initializer='he_normal'\n",
        "        )  # output: (16, 8, 32)\n",
        "        self.pool1 = MaxPooling2D(pool_size=(2, 2))    # output: (8, 4, 32)\n",
        "\n",
        "        self.conv2 = Conv2D(\n",
        "            filters=64, kernel_size=k, padding='same',\n",
        "            activation='relu', kernel_initializer='he_normal'\n",
        "        )  # output: (8, 4, 64)\n",
        "        self.pool2 = MaxPooling2D(pool_size=(2, 2))    # output: (4, 2, 64)\n",
        "\n",
        "        self.conv3 = Conv2D(\n",
        "            filters=128, kernel_size=k, padding='same',\n",
        "            activation='relu', kernel_initializer='he_normal'\n",
        "        )  # output: (4, 2, 128)\n",
        "        self.pool3 = MaxPooling2D(pool_size=(2, 2))    # output: (2, 1, 128)\n",
        "\n",
        "        self.flatten = Flatten()                        # output: (2*1*128 = 256)\n",
        "        self.fc1 = Dense(512, activation='relu', kernel_initializer='he_normal')\n",
        "        self.dropout = Dropout(0.5)\n",
        "        self.fc2 = Dense(26, kernel_initializer='he_normal')\n",
        "        self.softmax = Softmax()\n",
        "\n",
        "    def call(self, x, training=False):\n",
        "        x = self.conv1(x)\n",
        "        x = self.pool1(x)\n",
        "        x = self.conv2(x)\n",
        "        x = self.pool2(x)\n",
        "        x = self.conv3(x)\n",
        "        x = self.pool3(x)\n",
        "        x = self.flatten(x)\n",
        "        x = self.fc1(x)\n",
        "        x = self.dropout(x, training=training)\n",
        "        x = self.fc2(x)\n",
        "        return self.softmax(x)\n",
        "\n"
      ],
      "metadata": {
        "id": "maQZ_PdsL8Pm"
      },
      "execution_count": 17,
      "outputs": []
    },
    {
      "cell_type": "code",
      "source": [
        "def model_sel(epochs,\n",
        "              max_node_number,\n",
        "              batch_size_max,\n",
        "              lrs,\n",
        "              ms_train_x, ms_train_y,\n",
        "              ms_val_x, ms_val_y,\n",
        "              select_n_node=False,\n",
        "              select_bs=False):\n",
        "    \"\"\"\n",
        "    Esegue model selection testando diverse combinazioni di nodi, batch size e learning rate.\n",
        "\n",
        "    epochs: numero di epoche\n",
        "    max_node_number: massimo numero di filtri nei layer convoluzionali\n",
        "    batch_size_max: massimo esponente di 2 per il batch size (2,4,8,...)\n",
        "    lrs: minimo esponente negativo di 10 per il learning rate (10^-2,...)\n",
        "    \"\"\"\n",
        "\n",
        "    max_acc = 0\n",
        "    min_loss = np.inf\n",
        "    best_params = None\n",
        "\n",
        "    # Liste di iperparametri\n",
        "    node_list = range(5, max_node_number+1, 5) if select_n_node else [max_node_number]\n",
        "    batch_list = range(6, batch_size_max+1) if select_bs else [batch_size_max]\n",
        "    lr_list = [10**(-i) for i in range(2, lrs+1)]\n",
        "\n",
        "    for node_number in node_list:\n",
        "        print(f\"\\nNode number = {node_number}\")\n",
        "\n",
        "        for batch_exp in batch_list:\n",
        "            batch_train = 2**(batch_exp+1)\n",
        "            batch_val = 2**batch_exp\n",
        "            print(f\"   Batch size → train: {batch_train}, val: {batch_val}\")\n",
        "\n",
        "            # Dataset\n",
        "            train_ds = tf.data.Dataset.from_tensor_slices((ms_train_x, ms_train_y)) \\\n",
        "                                      .shuffle(buffer_size=len(ms_train_x)) \\\n",
        "                                      .batch(batch_train)\n",
        "            val_ds = tf.data.Dataset.from_tensor_slices((ms_val_x, ms_val_y)) \\\n",
        "                                    .batch(batch_val)\n",
        "\n",
        "            for lr in lr_list:\n",
        "                print(f\"      Learning rate = {lr}\")\n",
        "\n",
        "                # Inizializza nuovo modello\n",
        "                model = HWCharDeepModelKeras(node_number)\n",
        "                model.compile(\n",
        "                    optimizer=tf.keras.optimizers.Adam(learning_rate=lr),\n",
        "                    loss=tf.keras.losses.CategoricalCrossentropy(),\n",
        "                    metrics=[\"accuracy\"]\n",
        "                )\n",
        "\n",
        "                # Allenamento\n",
        "                history = model.fit(\n",
        "                    train_ds,\n",
        "                    validation_data=val_ds,\n",
        "                    epochs=epochs,\n",
        "                    verbose=0\n",
        "                )\n",
        "\n",
        "                val_loss, val_acc = model.evaluate(val_ds, verbose=0)\n",
        "\n",
        "                # Salva best model\n",
        "                if val_acc*100 > max_acc and val_loss < min_loss:\n",
        "                    max_acc = val_acc*100\n",
        "                    min_loss = val_loss\n",
        "                    best_params = {\n",
        "                        \"node_number\": node_number,\n",
        "                        \"batch_train\": batch_train,\n",
        "                        \"batch_val\": batch_val,\n",
        "                        \"learning_rate\": lr,\n",
        "                        \"epochs\": epochs,\n",
        "                        \"val_acc\": max_acc,\n",
        "                        \"val_loss\": min_loss\n",
        "                    }\n",
        "\n",
        "                    print(f\"New best → {best_params}\")\n",
        "\n",
        "    return best_params"
      ],
      "metadata": {
        "id": "BTr0LuaRMBuP"
      },
      "execution_count": 18,
      "outputs": []
    },
    {
      "cell_type": "code",
      "source": [
        "selected_hyp_params=model_sel(35,  5, 6, 5, ms_train_x, ms_train_y, ms_val_x, ms_val_y)"
      ],
      "metadata": {
        "colab": {
          "base_uri": "https://localhost:8080/"
        },
        "id": "FbnansgPMPcY",
        "outputId": "3d81d6d5-6058-44fe-9854-4544157f7aaa"
      },
      "execution_count": 19,
      "outputs": [
        {
          "output_type": "stream",
          "name": "stdout",
          "text": [
            "\n",
            "Node number = 5\n",
            "   Batch size → train: 128, val: 64\n",
            "      Learning rate = 0.01\n",
            "New best → {'node_number': 5, 'batch_train': 128, 'batch_val': 64, 'learning_rate': 0.01, 'epochs': 35, 'val_acc': 9.874570369720459, 'val_loss': 2.995889663696289}\n",
            "      Learning rate = 0.001\n",
            "New best → {'node_number': 5, 'batch_train': 128, 'batch_val': 64, 'learning_rate': 0.001, 'epochs': 35, 'val_acc': 91.8910264968872, 'val_loss': 0.25311437249183655}\n",
            "      Learning rate = 0.0001\n",
            "      Learning rate = 1e-05\n"
          ]
        }
      ]
    },
    {
      "cell_type": "code",
      "source": [
        "\n",
        "train_sp_x,val_sp_x=tf.split(train_x,[int(len(train_x)*0.7),len(train_x)-int(len(train_x)*0.7)])\n",
        "train_sp_y,val_sp_y=tf.split(train_y,[int(len(train_y)*0.7),len(train_y)-int(len(train_y)*0.7)])\n",
        "\n",
        "train_ds = tf.data.Dataset.from_tensor_slices((train_sp_x, train_sp_y)).shuffle(10000).batch(selected_hyp_params['batch_train'])\n",
        "val_ds = tf.data.Dataset.from_tensor_slices((val_sp_x, val_sp_y)).shuffle(10000).batch(selected_hyp_params['batch_train'])\n",
        "\n",
        "test_ds = tf.data.Dataset.from_tensor_slices((test_x, test_y)).batch(selected_hyp_params['batch_train']//2)"
      ],
      "metadata": {
        "id": "svCR4N3xU1F9"
      },
      "execution_count": 25,
      "outputs": []
    },
    {
      "cell_type": "code",
      "source": [
        "print(selected_hyp_params)\n",
        "EPOCHS = selected_hyp_params['epochs']\n",
        "network = HWCharDeepModelKeras(selected_hyp_params['node_number'])\n",
        "\n",
        "network.compile(\n",
        "    optimizer=tf.keras.optimizers.Adam(learning_rate=selected_hyp_params['learning_rate']),\n",
        "    loss=tf.keras.losses.CategoricalCrossentropy(),\n",
        "    metrics=[\"accuracy\"]\n",
        ")\n",
        "\n",
        "history = network.fit(\n",
        "    train_ds,\n",
        "    validation_data=val_ds,\n",
        "    epochs=EPOCHS\n",
        ")\n",
        "\n",
        "test_loss, test_acc = network.evaluate(test_ds)\n",
        "print(f\"Test Loss: {test_loss}, Test Accuracy: {test_acc*100:.2f}%\")\n"
      ],
      "metadata": {
        "id": "y2ChDbGvO_jf",
        "colab": {
          "base_uri": "https://localhost:8080/"
        },
        "outputId": "ecd6ce77-446a-4617-81ff-58d92562b866"
      },
      "execution_count": 26,
      "outputs": [
        {
          "output_type": "stream",
          "name": "stdout",
          "text": [
            "{'node_number': 5, 'batch_train': 128, 'batch_val': 64, 'learning_rate': 0.001, 'epochs': 35, 'val_acc': 91.8910264968872, 'val_loss': 0.25311437249183655}\n",
            "Epoch 1/35\n",
            "\u001b[1m229/229\u001b[0m \u001b[32m━━━━━━━━━━━━━━━━━━━━\u001b[0m\u001b[37m\u001b[0m \u001b[1m29s\u001b[0m 118ms/step - accuracy: 0.1556 - loss: 2.8779 - val_accuracy: 0.5676 - val_loss: 1.4505\n",
            "Epoch 2/35\n",
            "\u001b[1m229/229\u001b[0m \u001b[32m━━━━━━━━━━━━━━━━━━━━\u001b[0m\u001b[37m\u001b[0m \u001b[1m28s\u001b[0m 121ms/step - accuracy: 0.5992 - loss: 1.3227 - val_accuracy: 0.7113 - val_loss: 0.9565\n",
            "Epoch 3/35\n",
            "\u001b[1m229/229\u001b[0m \u001b[32m━━━━━━━━━━━━━━━━━━━━\u001b[0m\u001b[37m\u001b[0m \u001b[1m27s\u001b[0m 117ms/step - accuracy: 0.6965 - loss: 0.9952 - val_accuracy: 0.7664 - val_loss: 0.7743\n",
            "Epoch 4/35\n",
            "\u001b[1m229/229\u001b[0m \u001b[32m━━━━━━━━━━━━━━━━━━━━\u001b[0m\u001b[37m\u001b[0m \u001b[1m42s\u001b[0m 121ms/step - accuracy: 0.7494 - loss: 0.8226 - val_accuracy: 0.7946 - val_loss: 0.6555\n",
            "Epoch 5/35\n",
            "\u001b[1m229/229\u001b[0m \u001b[32m━━━━━━━━━━━━━━━━━━━━\u001b[0m\u001b[37m\u001b[0m \u001b[1m27s\u001b[0m 118ms/step - accuracy: 0.7877 - loss: 0.7044 - val_accuracy: 0.8309 - val_loss: 0.5565\n",
            "Epoch 6/35\n",
            "\u001b[1m229/229\u001b[0m \u001b[32m━━━━━━━━━━━━━━━━━━━━\u001b[0m\u001b[37m\u001b[0m \u001b[1m41s\u001b[0m 117ms/step - accuracy: 0.8192 - loss: 0.5977 - val_accuracy: 0.8372 - val_loss: 0.5260\n",
            "Epoch 7/35\n",
            "\u001b[1m229/229\u001b[0m \u001b[32m━━━━━━━━━━━━━━━━━━━━\u001b[0m\u001b[37m\u001b[0m \u001b[1m27s\u001b[0m 117ms/step - accuracy: 0.8328 - loss: 0.5389 - val_accuracy: 0.8445 - val_loss: 0.4934\n",
            "Epoch 8/35\n",
            "\u001b[1m229/229\u001b[0m \u001b[32m━━━━━━━━━━━━━━━━━━━━\u001b[0m\u001b[37m\u001b[0m \u001b[1m27s\u001b[0m 117ms/step - accuracy: 0.8453 - loss: 0.5020 - val_accuracy: 0.8694 - val_loss: 0.4137\n",
            "Epoch 9/35\n",
            "\u001b[1m229/229\u001b[0m \u001b[32m━━━━━━━━━━━━━━━━━━━━\u001b[0m\u001b[37m\u001b[0m \u001b[1m27s\u001b[0m 117ms/step - accuracy: 0.8576 - loss: 0.4617 - val_accuracy: 0.8782 - val_loss: 0.3783\n",
            "Epoch 10/35\n",
            "\u001b[1m229/229\u001b[0m \u001b[32m━━━━━━━━━━━━━━━━━━━━\u001b[0m\u001b[37m\u001b[0m \u001b[1m41s\u001b[0m 117ms/step - accuracy: 0.8671 - loss: 0.4304 - val_accuracy: 0.8770 - val_loss: 0.3814\n",
            "Epoch 11/35\n",
            "\u001b[1m229/229\u001b[0m \u001b[32m━━━━━━━━━━━━━━━━━━━━\u001b[0m\u001b[37m\u001b[0m \u001b[1m27s\u001b[0m 117ms/step - accuracy: 0.8718 - loss: 0.4069 - val_accuracy: 0.8652 - val_loss: 0.4231\n",
            "Epoch 12/35\n",
            "\u001b[1m229/229\u001b[0m \u001b[32m━━━━━━━━━━━━━━━━━━━━\u001b[0m\u001b[37m\u001b[0m \u001b[1m41s\u001b[0m 117ms/step - accuracy: 0.8764 - loss: 0.3883 - val_accuracy: 0.8889 - val_loss: 0.3433\n",
            "Epoch 13/35\n",
            "\u001b[1m229/229\u001b[0m \u001b[32m━━━━━━━━━━━━━━━━━━━━\u001b[0m\u001b[37m\u001b[0m \u001b[1m45s\u001b[0m 133ms/step - accuracy: 0.8865 - loss: 0.3590 - val_accuracy: 0.8864 - val_loss: 0.3568\n",
            "Epoch 14/35\n",
            "\u001b[1m229/229\u001b[0m \u001b[32m━━━━━━━━━━━━━━━━━━━━\u001b[0m\u001b[37m\u001b[0m \u001b[1m37s\u001b[0m 117ms/step - accuracy: 0.8883 - loss: 0.3509 - val_accuracy: 0.8881 - val_loss: 0.3536\n",
            "Epoch 15/35\n",
            "\u001b[1m229/229\u001b[0m \u001b[32m━━━━━━━━━━━━━━━━━━━━\u001b[0m\u001b[37m\u001b[0m \u001b[1m27s\u001b[0m 117ms/step - accuracy: 0.8939 - loss: 0.3351 - val_accuracy: 0.8985 - val_loss: 0.3065\n",
            "Epoch 16/35\n",
            "\u001b[1m229/229\u001b[0m \u001b[32m━━━━━━━━━━━━━━━━━━━━\u001b[0m\u001b[37m\u001b[0m \u001b[1m27s\u001b[0m 117ms/step - accuracy: 0.9003 - loss: 0.3141 - val_accuracy: 0.8947 - val_loss: 0.3245\n",
            "Epoch 17/35\n",
            "\u001b[1m229/229\u001b[0m \u001b[32m━━━━━━━━━━━━━━━━━━━━\u001b[0m\u001b[37m\u001b[0m \u001b[1m41s\u001b[0m 117ms/step - accuracy: 0.9042 - loss: 0.2967 - val_accuracy: 0.9034 - val_loss: 0.3034\n",
            "Epoch 18/35\n",
            "\u001b[1m229/229\u001b[0m \u001b[32m━━━━━━━━━━━━━━━━━━━━\u001b[0m\u001b[37m\u001b[0m \u001b[1m41s\u001b[0m 117ms/step - accuracy: 0.9041 - loss: 0.2910 - val_accuracy: 0.8973 - val_loss: 0.3146\n",
            "Epoch 19/35\n",
            "\u001b[1m229/229\u001b[0m \u001b[32m━━━━━━━━━━━━━━━━━━━━\u001b[0m\u001b[37m\u001b[0m \u001b[1m41s\u001b[0m 117ms/step - accuracy: 0.9076 - loss: 0.2826 - val_accuracy: 0.8931 - val_loss: 0.3179\n",
            "Epoch 20/35\n",
            "\u001b[1m229/229\u001b[0m \u001b[32m━━━━━━━━━━━━━━━━━━━━\u001b[0m\u001b[37m\u001b[0m \u001b[1m27s\u001b[0m 117ms/step - accuracy: 0.9054 - loss: 0.2827 - val_accuracy: 0.9084 - val_loss: 0.2866\n",
            "Epoch 21/35\n",
            "\u001b[1m229/229\u001b[0m \u001b[32m━━━━━━━━━━━━━━━━━━━━\u001b[0m\u001b[37m\u001b[0m \u001b[1m42s\u001b[0m 120ms/step - accuracy: 0.9173 - loss: 0.2535 - val_accuracy: 0.9062 - val_loss: 0.2778\n",
            "Epoch 22/35\n",
            "\u001b[1m229/229\u001b[0m \u001b[32m━━━━━━━━━━━━━━━━━━━━\u001b[0m\u001b[37m\u001b[0m \u001b[1m27s\u001b[0m 119ms/step - accuracy: 0.9172 - loss: 0.2485 - val_accuracy: 0.9088 - val_loss: 0.2820\n",
            "Epoch 23/35\n",
            "\u001b[1m229/229\u001b[0m \u001b[32m━━━━━━━━━━━━━━━━━━━━\u001b[0m\u001b[37m\u001b[0m \u001b[1m41s\u001b[0m 120ms/step - accuracy: 0.9195 - loss: 0.2392 - val_accuracy: 0.9124 - val_loss: 0.2656\n",
            "Epoch 24/35\n",
            "\u001b[1m229/229\u001b[0m \u001b[32m━━━━━━━━━━━━━━━━━━━━\u001b[0m\u001b[37m\u001b[0m \u001b[1m40s\u001b[0m 116ms/step - accuracy: 0.9207 - loss: 0.2392 - val_accuracy: 0.9071 - val_loss: 0.2812\n",
            "Epoch 25/35\n",
            "\u001b[1m229/229\u001b[0m \u001b[32m━━━━━━━━━━━━━━━━━━━━\u001b[0m\u001b[37m\u001b[0m \u001b[1m27s\u001b[0m 118ms/step - accuracy: 0.9269 - loss: 0.2275 - val_accuracy: 0.9097 - val_loss: 0.2746\n",
            "Epoch 26/35\n",
            "\u001b[1m229/229\u001b[0m \u001b[32m━━━━━━━━━━━━━━━━━━━━\u001b[0m\u001b[37m\u001b[0m \u001b[1m40s\u001b[0m 116ms/step - accuracy: 0.9213 - loss: 0.2297 - val_accuracy: 0.9179 - val_loss: 0.2552\n",
            "Epoch 27/35\n",
            "\u001b[1m229/229\u001b[0m \u001b[32m━━━━━━━━━━━━━━━━━━━━\u001b[0m\u001b[37m\u001b[0m \u001b[1m26s\u001b[0m 116ms/step - accuracy: 0.9279 - loss: 0.2089 - val_accuracy: 0.9090 - val_loss: 0.2789\n",
            "Epoch 28/35\n",
            "\u001b[1m229/229\u001b[0m \u001b[32m━━━━━━━━━━━━━━━━━━━━\u001b[0m\u001b[37m\u001b[0m \u001b[1m27s\u001b[0m 116ms/step - accuracy: 0.9308 - loss: 0.2059 - val_accuracy: 0.8926 - val_loss: 0.3395\n",
            "Epoch 29/35\n",
            "\u001b[1m229/229\u001b[0m \u001b[32m━━━━━━━━━━━━━━━━━━━━\u001b[0m\u001b[37m\u001b[0m \u001b[1m27s\u001b[0m 116ms/step - accuracy: 0.9274 - loss: 0.2143 - val_accuracy: 0.9089 - val_loss: 0.2864\n",
            "Epoch 30/35\n",
            "\u001b[1m229/229\u001b[0m \u001b[32m━━━━━━━━━━━━━━━━━━━━\u001b[0m\u001b[37m\u001b[0m \u001b[1m27s\u001b[0m 116ms/step - accuracy: 0.9312 - loss: 0.1984 - val_accuracy: 0.9180 - val_loss: 0.2588\n",
            "Epoch 31/35\n",
            "\u001b[1m229/229\u001b[0m \u001b[32m━━━━━━━━━━━━━━━━━━━━\u001b[0m\u001b[37m\u001b[0m \u001b[1m41s\u001b[0m 116ms/step - accuracy: 0.9356 - loss: 0.1928 - val_accuracy: 0.9190 - val_loss: 0.2462\n",
            "Epoch 32/35\n",
            "\u001b[1m229/229\u001b[0m \u001b[32m━━━━━━━━━━━━━━━━━━━━\u001b[0m\u001b[37m\u001b[0m \u001b[1m27s\u001b[0m 116ms/step - accuracy: 0.9400 - loss: 0.1761 - val_accuracy: 0.9191 - val_loss: 0.2486\n",
            "Epoch 33/35\n",
            "\u001b[1m229/229\u001b[0m \u001b[32m━━━━━━━━━━━━━━━━━━━━\u001b[0m\u001b[37m\u001b[0m \u001b[1m26s\u001b[0m 116ms/step - accuracy: 0.9405 - loss: 0.1743 - val_accuracy: 0.9172 - val_loss: 0.2636\n",
            "Epoch 34/35\n",
            "\u001b[1m229/229\u001b[0m \u001b[32m━━━━━━━━━━━━━━━━━━━━\u001b[0m\u001b[37m\u001b[0m \u001b[1m26s\u001b[0m 115ms/step - accuracy: 0.9409 - loss: 0.1749 - val_accuracy: 0.9182 - val_loss: 0.2452\n",
            "Epoch 35/35\n",
            "\u001b[1m229/229\u001b[0m \u001b[32m━━━━━━━━━━━━━━━━━━━━\u001b[0m\u001b[37m\u001b[0m \u001b[1m42s\u001b[0m 118ms/step - accuracy: 0.9427 - loss: 0.1716 - val_accuracy: 0.9191 - val_loss: 0.2548\n",
            "\u001b[1m163/163\u001b[0m \u001b[32m━━━━━━━━━━━━━━━━━━━━\u001b[0m\u001b[37m\u001b[0m \u001b[1m2s\u001b[0m 12ms/step - accuracy: 0.9211 - loss: 0.2601\n",
            "Test Loss: 0.26687973737716675, Test Accuracy: 91.82%\n"
          ]
        }
      ]
    },
    {
      "cell_type": "code",
      "source": [
        "history.history\n",
        "\n",
        "fig, ax = plt.subplots(nrows=2, sharex=True)\n",
        "\n",
        "ax[0].plot(history.history[\"loss\"], label=\"train\")\n",
        "ax[0].plot(history.history[\"val_loss\"], label=\"test\")\n",
        "ax[0].set_ylabel(\"Cross-Entropy loss\")\n",
        "ax[0].set_ylim(0)\n",
        "ax[0].legend()\n",
        "\n",
        "ax[1].plot(history.history[\"accuracy\"], label=\"train\")\n",
        "ax[1].plot(history.history[\"val_accuracy\"], label=\"test\")\n",
        "ax[1].set_ylabel(\"Accuracy\")\n",
        "ax[1].set_xlabel(\"Epochs\")\n",
        "ax[1].set_ylim(0, 1)\n",
        "ax[1].legend()\n",
        "\n",
        "fig.suptitle(\"CNN Training History\")\n",
        "fig.savefig(\"cnn-training.png\", dpi=300)\n"
      ],
      "metadata": {
        "colab": {
          "base_uri": "https://localhost:8080/",
          "height": 497
        },
        "id": "uVUpDFAndEA-",
        "outputId": "0eefda34-bb49-45bc-a7d5-31de25f98372"
      },
      "execution_count": 27,
      "outputs": [
        {
          "output_type": "display_data",
          "data": {
            "text/plain": [
              "<Figure size 640x480 with 2 Axes>"
            ],
            "image/png": "[encoded data removed]"
          },
          "metadata": {}
        }
      ]
    },
    {
      "cell_type": "code",
      "source": [
        "predicted_class=network(test_x,training=False)\n",
        "\n",
        "list_of_predicted_class=[]\n",
        "for i in predicted_class:\n",
        "    ind=int(tf.argmax(i))\n",
        "    list_of_predicted_class.append(alfa_dict_num_to_char[ind])\n",
        "# list_of_predicted_class\n",
        "\n",
        "file = open('predicted_class.txt', 'w')\n",
        "\n",
        "for char in list_of_predicted_class:\n",
        "    file.write(char+'\\n')\n",
        "\n",
        "file.close()"
      ],
      "metadata": {
        "id": "P7KO1uJowmpi"
      },
      "execution_count": 28,
      "outputs": []
    },
    {
      "cell_type": "code",
      "source": [],
      "metadata": {
        "id": "Q4kek1v_Ncgx"
      },
      "execution_count": null,
      "outputs": []
    }
  ]
}